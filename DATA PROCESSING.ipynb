{
 "cells": [
  {
   "cell_type": "markdown",
   "id": "b1582b0f-5b85-4cac-b0ed-ba18df494f86",
   "metadata": {},
   "source": [
    "# CUSTOMER DATA PROCESSING"
   ]
  },
  {
   "cell_type": "markdown",
   "id": "e3987c2b-5975-41e8-aae7-351cf19ccafa",
   "metadata": {},
   "source": [
    "## Solution 1\n",
    "\n",
    "Reading in the provided ACW Data using the CSV library."
   ]
  },
  {
   "cell_type": "code",
   "execution_count": null,
   "id": "fbcf0c50-e5ea-4b0b-9e16-569c54ac7081",
   "metadata": {
    "scrolled": true
   },
   "outputs": [],
   "source": [
    "import csv\n",
    "\n",
    "#Path to the csv user file\n",
    "csv_file_path = \"C:/Users/USER/OneDrive - hull.ac.uk/Python/acw_user_data.csv\" \n",
    "\n",
    "\n",
    "# This is just a test comment\n",
    "\n",
    "#Opens a CSV file in read mode and assigns it to the fcsv file\n",
    "with open (csv_file_path, \"r\") as csv_file:\n",
    "    csv_reader = csv.reader(csv_file) #Creates a csv file reader object"
   ]
  },
  {
   "cell_type": "markdown",
   "id": "702f6261-2d66-49f2-8955-90ccf03acc58",
   "metadata": {},
   "source": [
    "## Solution 2\n",
    "\n",
    "Converting the actual data from all flat structures into nested structures."
   ]
  },
  {
   "cell_type": "code",
   "execution_count": 147,
   "id": "5e7a0d1b-d94c-4ce3-86fd-da59d0212133",
   "metadata": {},
   "outputs": [],
   "source": [
    "import csv\n",
    "import json\n",
    " \n",
    "json_file_path = csv_file_path.replace(\".csv\", \"_nested.json\")\n",
    "\n",
    "with open(csv_file_path, \"r\") as csv_file:\n",
    "    csv_reader = csv.DictReader(csv_file)\n",
    "    result = []\n",
    "\n",
    "    for row in csv_reader:\n",
    "        \n",
    "         person_data = {\n",
    "             \"first_name\" : row[\"First Name\"],\n",
    "            \"last_name\" : row[\"Last Name\"],\n",
    "            \"age\" : int(row[\"Age (Years)\"]),\n",
    "             \"sex\" : row[\"Sex\"],\n",
    "            \"marital_status\" : row[\"Marital Status\"],\n",
    "            \"dependants\" : row[\"Dependants\"],\n",
    "            \"employer_company\" : row[\"Employer Company\"],\n",
    "            \"yearly_pension\" : float(row[\"Yearly Pension (Dollar)\"]),\n",
    "            \"yearly_salary\" : float(row[\"Yearly Salary (Dollar)\"]),\n",
    "            \"retired\" : row[\"Retired\"],\n",
    "            \"Distance_commuted_km\" : float(row[\"Distance Commuted to Work (Km)\"]),\n",
    "\n",
    "            \"Address\": {\n",
    "                \"Address Street\" : row[\"Address Street\"],\n",
    "                \"Address City\" : row[\"Address City\"],\n",
    "                \"Address Postcode\" : row[\"Address Postcode\"]\n",
    "            },\n",
    "\n",
    "            \"Credit_Card\": {\n",
    "                \"start_date\" : row[\"Credit Card Start Date\"],\n",
    "                \"expiry_date\" : row[\"Credit Card Expiry Date\"],\n",
    "                \"card_number\" : row[\"Credit Card Number\"],\n",
    "                \"security_number\" : row[\"Credit Card CVV\"],\n",
    "                \"iban\" : row[\"Bank IBAN\"],\n",
    "            },\n",
    "\n",
    "            \"Vehicle\": {\n",
    "                 \"make\" : row[\"Vehicle Make\"],\n",
    "                 \"model\" : row[\"Vehicle Model\"],\n",
    "                 \"year\" : row[\"Vehicle Year\"],\n",
    "                 \"type\" : row[\"Vehicle Type\"]\n",
    "            }\n",
    "         }\n",
    "\n",
    "         result.append(person_data)\n",
    "\n",
    "with open(json_file_path, \"w\") as json_file:\n",
    "    json.dump(result, json_file, indent = 4)"
   ]
  },
  {
   "cell_type": "markdown",
   "id": "bd96aa69-ed53-43af-abfb-16188ada9257",
   "metadata": {},
   "source": [
    "## Solution 3\n",
    "\n",
    "Due to the difficulty encountered, as a result of errors, of which the client has informed me as well, a new list will be created beleow to correct all of such error."
   ]
  },
  {
   "cell_type": "code",
   "execution_count": 121,
   "id": "8b60605f-ca2c-4221-8a04-df26364248b5",
   "metadata": {},
   "outputs": [
    {
     "name": "stdout",
     "output_type": "stream",
     "text": [
      "missing_dependants_rows: [23, 111, 181, 207, 272, 274, 276, 360, 462, 470, 581, 638, 681, 727, 824, 867, 919, 933, 985]\n"
     ]
    }
   ],
   "source": [
    "import csv\n",
    "\n",
    "missing_dependants_rows = []\n",
    "corrected_dependants_rows = []\n",
    "\n",
    "\n",
    "\n",
    "with open (csv_file_path, newline=\"\") as csv_file:\n",
    "    csv_reader = list(csv.DictReader(csv_file))\n",
    "    header_column = csv_reader[0].keys()\n",
    "\n",
    "    for i, row in enumerate(csv_reader):\n",
    "        dependants = row.get(\"Dependants\", \"\").strip()\n",
    "       \n",
    "        if dependants == \"\":\n",
    "            row[\"Dependants\"] = \"Not given\"\n",
    "            missing_dependants_rows.append(i + 2)\n",
    "        corrected_dependants_rows.append(row)\n",
    "\n",
    "print(f\"missing_dependants_rows: {missing_dependants_rows}\")"
   ]
  },
  {
   "cell_type": "markdown",
   "id": "7a01212d-036e-4e17-b669-ac549b1ca218",
   "metadata": {},
   "source": [
    "## Solution 4\n",
    "\n",
    "A new record will be written into a processed.json file in the JSON data format."
   ]
  },
  {
   "cell_type": "code",
   "execution_count": 36,
   "id": "95b68b85-068a-48c4-bf25-978784c6eec7",
   "metadata": {},
   "outputs": [],
   "source": [
    "import csv\n",
    "import json\n",
    "\n",
    "json_file_path = \"C:/Users/USER/OneDrive - hull.ac.uk/Python/processed.json.json\" \n",
    "\n",
    "with open(csv_file_path, \"r\") as csv_file:\n",
    "    csv_reader = csv.DictReader(csv_file)\n",
    "    result = []\n",
    "\n",
    "    for row in csv_reader:\n",
    "        \n",
    "         person_data = {\n",
    "             \"first_name\" : row[\"First Name\"],\n",
    "            \"last_name\" : row[\"Last Name\"],\n",
    "            \"age\" : int(row[\"Age (Years)\"]),\n",
    "             \"sex\" : row[\"Sex\"],\n",
    "            \"marital_status\" : row[\"Marital Status\"],\n",
    "            \"dependants\" : row[\"Dependants\"],\n",
    "            \"employer_company\" : row[\"Employer Company\"],\n",
    "            \"yearly_pension\" : float(row[\"Yearly Pension (Dollar)\"]),\n",
    "            \"yearly_salary\" : float(row[\"Yearly Salary (Dollar)\"]),\n",
    "            \"retired\" : row[\"Retired\"],\n",
    "            \"Distance_commuted_km\" : float(row[\"Distance Commuted to Work (Km)\"]),\n",
    "\n",
    "            \"Address\": {\n",
    "                \"Address Street\" : row[\"Address Street\"],\n",
    "                \"Address City\" : row[\"Address City\"],\n",
    "                \"Address Postcode\" : row[\"Address Postcode\"]\n",
    "            },\n",
    "\n",
    "            \"Credit_Card\": {\n",
    "                \"start_date\" : row[\"Credit Card Start Date\"],\n",
    "                \"expiry_date\" : row[\"Credit Card Expiry Date\"],\n",
    "                \"card_number\" : row[\"Credit Card Number\"],\n",
    "                \"security_number\" : row[\"Credit Card CVV\"],\n",
    "                \"iban\" : row[\"Bank IBAN\"],\n",
    "            },\n",
    "\n",
    "            \"Vehicle\": {\n",
    "                 \"make\" : row[\"Vehicle Make\"],\n",
    "                 \"model\" : row[\"Vehicle Model\"],\n",
    "                 \"year\" : row[\"Vehicle Year\"],\n",
    "                 \"type\" : row[\"Vehicle Type\"]\n",
    "            }\n",
    "         }\n",
    "\n",
    "         result.append(person_data)\n",
    "\n",
    "with open(json_file_path, \"w\") as json_file:\n",
    "    json.dump(result, json_file, indent = 4)"
   ]
  },
  {
   "cell_type": "markdown",
   "id": "6c5b794b-900a-4ab5-a647-c9c83cf6362a",
   "metadata": {},
   "source": [
    "## Solution 5\n",
    "\n",
    "Two additional file outputs will be created for the retired customers(retired.json) and the employed customers(employed.json)."
   ]
  },
  {
   "cell_type": "code",
   "execution_count": 65,
   "id": "554420bc-06c2-4a6d-b877-3e75a5222c17",
   "metadata": {},
   "outputs": [],
   "source": [
    "import csv\n",
    "import json\n",
    "\n",
    "# Ouput files\n",
    "retired_path = \"C:/Users/USER/OneDrive - hull.ac.uk/Python/retired.json.json\" \n",
    "employed_path = \"C:/Users/USER/OneDrive - hull.ac.uk/Python/employed.json.json\" \n",
    "\n",
    "# Filtered output lists\n",
    "retired_customers = []\n",
    "employed_customers = []\n",
    "\n",
    "\n",
    "with open(csv_file_path, \"r\") as csv_file:\n",
    "    csv_reader = csv.DictReader(csv_file)\n",
    "\n",
    "    for row in csv_reader:\n",
    "        \n",
    "         person_data = {\n",
    "             \"first_name\" : row[\"First Name\"],\n",
    "            \"last_name\" : row[\"Last Name\"],\n",
    "            \"age\" : int(row[\"Age (Years)\"]),\n",
    "             \"sex\" : row[\"Sex\"],\n",
    "            \"marital_status\" : row[\"Marital Status\"],\n",
    "            \"dependants\" : row[\"Dependants\"],\n",
    "            \"employer_company\" : row[\"Employer Company\"],\n",
    "            \"yearly_pension\" : float(row[\"Yearly Pension (Dollar)\"]),\n",
    "            \"yearly_salary\" : float(row[\"Yearly Salary (Dollar)\"]),\n",
    "            \"retired\" : row[\"Retired\"],\n",
    "            \"Distance_commuted_km\" : float(row[\"Distance Commuted to Work (Km)\"]),\n",
    "\n",
    "            \"Address\": {\n",
    "                \"Address Street\" : row[\"Address Street\"],\n",
    "                \"Address City\" : row[\"Address City\"],\n",
    "                \"Address Postcode\" : row[\"Address Postcode\"]\n",
    "            },\n",
    "\n",
    "            \"Credit_Card\": {\n",
    "                \"start_date\" : row[\"Credit Card Start Date\"],\n",
    "                \"expiry_date\" : row[\"Credit Card Expiry Date\"],\n",
    "                \"card_number\" : row[\"Credit Card Number\"],\n",
    "                \"security_number\" : row[\"Credit Card CVV\"],\n",
    "                \"iban\" : row[\"Bank IBAN\"],\n",
    "            },\n",
    "\n",
    "            \"Vehicle\": {\n",
    "                 \"make\" : row[\"Vehicle Make\"],\n",
    "                 \"model\" : row[\"Vehicle Model\"],\n",
    "                 \"year\" : row[\"Vehicle Year\"],\n",
    "                 \"type\" : row[\"Vehicle Type\"]\n",
    "            }\n",
    "         }\n",
    "        \n",
    "         if row[\"Retired\"] == \"True\":\n",
    "            retired_customers.append(person_data)\n",
    "\n",
    "         if row[\"Employer Company\"] != \"N/A\":\n",
    "            employed_customers.append(person_data)\n",
    "\n",
    "\n",
    "\n",
    "with open(retired_path, \"w\") as json_file:\n",
    "    json.dump(retired_customers, json_file, indent = 4)\n",
    "\n",
    "with open(employed_path, \"w\") as json_file:\n",
    "    json.dump(employed_customers, json_file, indent = 4)"
   ]
  },
  {
   "cell_type": "markdown",
   "id": "e2684d0d-fd01-4907-bb31-9e24cfa1cce4",
   "metadata": {},
   "source": [
    "## Solution 6\n",
    "\n",
    "Data of customers who have more than 10 years between their start and end date, seperated and stored on a remove_ccard.json file."
   ]
  },
  {
   "cell_type": "code",
   "execution_count": 77,
   "id": "24bb1ddf-34db-4201-a5b8-dcb15092438f",
   "metadata": {},
   "outputs": [],
   "source": [
    "import csv\n",
    "import json\n",
    "from datetime import datetime\n",
    "\n",
    "# Output files\n",
    "remove_ccard_path = \"C:/Users/USER/OneDrive - hull.ac.uk/Python/remove_ccard.json.json\" \n",
    "\n",
    "flagged_ccards = []\n",
    "\n",
    "def ccards_validity(row):\n",
    "    start = row[\"Credit Card Start Date\"]\n",
    "    end = row[\"Credit Card Expiry Date\"]\n",
    "\n",
    "    start_month, start_year = start.split(\"/\")\n",
    "    end_month, end_year = end.split(\"/\")\n",
    "\n",
    "    start_month = int(start_month)\n",
    "    end_month = int(end_month)\n",
    "    start_year = int(start_year) + 2000\n",
    "    end_year = int(end_year) + 2000\n",
    "\n",
    "\n",
    "    total_months = (end_year - start_year) * 12 +(end_month - start_month)\n",
    "\n",
    "    return total_months > 120\n",
    "\n",
    "with open(csv_file_path, \"r\") as csv_file:\n",
    "    csv_reader = csv.DictReader(csv_file)\n",
    "\n",
    "    for row in csv_reader:\n",
    "        if ccards_validity(row):\n",
    "            flagged_ccards.append({\n",
    "                \"first_name\" : row[\"First Name\"],\n",
    "                \"last_name\" : row[\"Last Name\"],\n",
    "                \"start_date\" : row[\"Credit Card Start Date\"],\n",
    "                \"expiry_date\" : row[\"Credit Card Expiry Date\"],\n",
    "                \"card_number\" : row[\"Credit Card Number\"]\n",
    "            })\n",
    "\n",
    "with open(remove_ccard_path, \"w\") as json_file:\n",
    "    json.dump(flagged_ccards, json_file, indent = 4)\n",
    "              "
   ]
  },
  {
   "cell_type": "markdown",
   "id": "8a40c8db-09e7-48be-b1c5-0f38fb631d1a",
   "metadata": {},
   "source": [
    "## Solution 7\n",
    "\n",
    "A new data attribute for customers \"Salary-Commute\" to calculate in additional metrics which would be used for ranking cusomers."
   ]
  },
  {
   "cell_type": "code",
   "execution_count": 125,
   "id": "b2d65539-5ddd-457c-b8e1-e57a991d966d",
   "metadata": {},
   "outputs": [],
   "source": [
    "import json\n",
    "\n",
    "# File path\n",
    "json_file_path = \"C:/Users/USER/OneDrive - hull.ac.uk/Python/processed.json.json\"\n",
    "\n",
    "with open (json_file_path, \"r\") as json_file:\n",
    "    customer_data = json.load(json_file)\n"
   ]
  },
  {
   "cell_type": "markdown",
   "id": "b5413357-0407-4aae-87c3-f0af47207fbc",
   "metadata": {},
   "source": [
    "### 7a\n",
    "Calculating  the new attribute (Salary-Commute), representing Salary customers earn, per Km of their commute."
   ]
  },
  {
   "cell_type": "code",
   "execution_count": 124,
   "id": "ab608faf-7b8b-4f87-8da7-76daf5ea98e9",
   "metadata": {},
   "outputs": [],
   "source": [
    "for customer in customer_data:\n",
    "    salary = customer[\"yearly_salary\"]\n",
    "    commute = customer[\"Distance_commuted_km\"]\n",
    "\n",
    "    if type(commute) == list and len(commute) > 0:\n",
    "        commute = commute[0] # gets the first item on list\n",
    "\n",
    "    if type(commute) == str:\n",
    "        commute = commute.strip()\n",
    "        if commute != \"\" and commute != \"N/A\":\n",
    "            commute = 0\n",
    "        else:\n",
    "            commute = float(commute)\n",
    "    if type(commute) != float and type(commute) != int:\n",
    "        commute = 0\n",
    "    if commute <= 1:\n",
    "        customer [\"Salary-Commute\"] = salary\n",
    "    else:\n",
    "        customer [\"Salary-Commute\"] = round(salary / commute, 2)\n",
    "\n",
    "with open(json_file_path, \"w\" ) as json_file:\n",
    "    json.dump(data, json_file, indent = 4)"
   ]
  },
  {
   "cell_type": "markdown",
   "id": "1aaa7677-e90b-4bc7-8cb7-fa5149c6d6c5",
   "metadata": {},
   "source": [
    "### 7b\n",
    "\n",
    "Data is sorted in ascending order."
   ]
  },
  {
   "cell_type": "code",
   "execution_count": 136,
   "id": "2397ef28-1ccd-48bb-b847-5a01843ee1a8",
   "metadata": {},
   "outputs": [],
   "source": [
    "with open (json_file_path, \"r\") as json_file:\n",
    "    customer_data = json.load(json_file)\n",
    "\n",
    "def commute_value(customer):\n",
    "    return customer[\"Salary-Commute\"]\n",
    "\n",
    "customer_data.sort(key=commute_value)"
   ]
  },
  {
   "cell_type": "markdown",
   "id": "5a8a6da7-3165-45dc-bc26-3a56188c6dde",
   "metadata": {},
   "source": [
    "### 7c\n",
    "The sorted output file will be stored as a JSON file \"commute\"."
   ]
  },
  {
   "cell_type": "code",
   "execution_count": 137,
   "id": "638a4a7e-c4ec-4344-ba82-141b64448aba",
   "metadata": {},
   "outputs": [],
   "source": [
    "import json\n",
    "\n",
    "# File path\n",
    "json_file_path = \"C:/Users/USER/OneDrive - hull.ac.uk/Python/processed.json.json\"\n",
    "commute_file_path = \"C:/Users/USER/OneDrive - hull.ac.uk/Python/commute.json\"\n",
    "\n",
    "with open (json_file_path, \"r\") as json_file:\n",
    "    customer_data = json.load(json_file)\n",
    "\n",
    "def commute_value(customer):\n",
    "    return customer[\"Salary-Commute\"]\n",
    "\n",
    "customer_data.sort(key=commute_value)\n",
    "\n",
    "\n",
    "with open(commute_file_path, \"w\") as json_file:\n",
    "    json.dump(customer_data, json_file, indent = 4)"
   ]
  },
  {
   "cell_type": "markdown",
   "id": "5e71fd7c-a8c5-4764-b448-77aeeb090b62",
   "metadata": {},
   "source": [
    "#"
   ]
  },
  {
   "cell_type": "markdown",
   "id": "f85326af-6f17-437d-ac2a-d6c3889957c0",
   "metadata": {},
   "source": [
    "#"
   ]
  },
  {
   "cell_type": "markdown",
   "id": "e0ffe38a-e8eb-4ebf-a8e9-6567024a643e",
   "metadata": {},
   "source": [
    "# CUSTOMER DATA VISUALIZATION\n",
    "\n",
    "Visualization method will be introduced here to make client understand the data they have on their customers a bit more. This will be done by the use of Pandas and seaborn, reading through the original CSV file"
   ]
  },
  {
   "cell_type": "markdown",
   "id": "4b062edb-a599-4dba-bbd1-88cc70291192",
   "metadata": {},
   "source": [
    "## Solution 1\n",
    "Obtaining the data series for salary and Age and calculating the Mean and Median salary"
   ]
  },
  {
   "cell_type": "code",
   "execution_count": 3,
   "id": "98aeeeb3-0f6b-41e9-b4d5-07836d479426",
   "metadata": {},
   "outputs": [],
   "source": [
    "import pandas as pd\n",
    "import seaborn as sns\n",
    "import csv\n",
    "\n",
    "# Reads the file\n",
    "df = pd.read_csv(csv_file_path)"
   ]
  },
  {
   "cell_type": "markdown",
   "id": "549fb95f-f218-41c9-83b5-79ef126d3139",
   "metadata": {},
   "source": [
    "### 1a\n",
    "Mean Salary"
   ]
  },
  {
   "cell_type": "code",
   "execution_count": 4,
   "id": "681b6aee-1be6-4bff-a43a-81ad39bedc8d",
   "metadata": {},
   "outputs": [
    {
     "data": {
      "text/plain": [
       "np.float64(57814.078)"
      ]
     },
     "execution_count": 4,
     "metadata": {},
     "output_type": "execute_result"
    }
   ],
   "source": [
    "salary = df[\"Yearly Salary (Dollar)\"]\n",
    "\n",
    "mean_salary = salary.mean()\n",
    "\n",
    "mean_salary"
   ]
  },
  {
   "cell_type": "markdown",
   "id": "e3da54ec-bc58-436b-8dcb-0afd5e67c189",
   "metadata": {},
   "source": [
    "### 1b\n",
    "\n",
    "Median Salary"
   ]
  },
  {
   "cell_type": "code",
   "execution_count": 6,
   "id": "9dd10995-8048-47ef-a492-39925814a48d",
   "metadata": {},
   "outputs": [
    {
     "data": {
      "text/plain": [
       "np.float64(57518.0)"
      ]
     },
     "execution_count": 6,
     "metadata": {},
     "output_type": "execute_result"
    }
   ],
   "source": [
    "median_salary = salary.median()\n",
    "\n",
    "median_salary"
   ]
  },
  {
   "cell_type": "markdown",
   "id": "88f41b50-bb72-4f2a-8039-a8b9bed882a6",
   "metadata": {},
   "source": [
    "## Solution 2\n",
    "A univariate plots will be performed on the following data attributes"
   ]
  },
  {
   "cell_type": "markdown",
   "id": "7f372667-23de-4642-847d-88b69b300195",
   "metadata": {},
   "source": [
    "### 2a\n",
    "Age, calculating how many bins would be reqired for a bin_width of 5"
   ]
  },
  {
   "cell_type": "code",
   "execution_count": 12,
   "id": "c3aee816-9123-46e3-8e23-48badd27b734",
   "metadata": {},
   "outputs": [],
   "source": [
    "age_column = df[\"Age (Years)\"]\n",
    "\n",
    "min_age = age_column.min()\n",
    "max_age = age_column.max()\n",
    "bin_width = 5\n",
    "\n",
    "bin_num = (int(max_age - min_age) / bin_width)"
   ]
  },
  {
   "cell_type": "code",
   "execution_count": null,
   "id": "363cfc09-4df4-49af-aac0-bd40767291f9",
   "metadata": {},
   "outputs": [],
   "source": [
    "import matplotlib.pyplot as plt\n",
    "\n",
    "plt.figure(figsize = (8,5))\n",
    "sns.histplot(age_column)"
   ]
  }
 ],
 "metadata": {
  "kernelspec": {
   "display_name": "Python 3 (ipykernel)",
   "language": "python",
   "name": "python3"
  },
  "language_info": {
   "codemirror_mode": {
    "name": "ipython",
    "version": 3
   },
   "file_extension": ".py",
   "mimetype": "text/x-python",
   "name": "python",
   "nbconvert_exporter": "python",
   "pygments_lexer": "ipython3",
   "version": "3.13.3"
  }
 },
 "nbformat": 4,
 "nbformat_minor": 5
}
